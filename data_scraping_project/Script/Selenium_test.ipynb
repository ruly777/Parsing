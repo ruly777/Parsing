{
 "cells": [
  {
   "cell_type": "code",
   "execution_count": 56,
   "metadata": {},
   "outputs": [],
   "source": [
    "# import libraries\n",
    "from selenium import webdriver\n",
    "from selenium.webdriver.chrome.service import Service\n",
    "from selenium.webdriver.common.by import By\n",
    "from webdriver_manager.chrome import ChromeDriverManager\n",
    "from selenium.webdriver.common.keys import Keys\n",
    "from selenium.webdriver.common.action_chains import ActionChains\n",
    "from selenium.webdriver.support.ui import WebDriverWait\n",
    "from selenium.webdriver.support import expected_conditions as EC\n",
    "import time\n",
    "import pandas as pd"
   ]
  },
  {
   "cell_type": "code",
   "execution_count": 60,
   "metadata": {},
   "outputs": [],
   "source": [
    "driver = webdriver.Chrome(service=Service(ChromeDriverManager().install()))"
   ]
  },
  {
   "cell_type": "code",
   "execution_count": 61,
   "metadata": {},
   "outputs": [],
   "source": [
    "# Define the URL\n",
    "base_url = \"https://xn--80afcdbalict6afooklqi5o.xn--p1ai/public/application/cards\"\n",
    "links = []\n",
    "\n",
    "for page_number in range(1,11):\n",
    "    # load the web page\n",
    "    driver.get(f\"{base_url}?page={page_number}\")\n",
    "\n",
    "    # set maximum time to load the web page in seconds\n",
    "    driver.implicitly_wait(10)\n",
    "    \n",
    "    # collect data that are withing the id of contents\n",
    "    contents = driver.find_element(By.CLASS_NAME, \"projects__table\")\n",
    "\n",
    "    #1 Get all the by video titel link using id video-title-link\n",
    "    project_links = contents.find_elements(By.TAG_NAME, \"a\")\n",
    "\n",
    "    for project in project_links:\n",
    "       #5 Extract the link\n",
    "        project_link = project.get_attribute(\"href\")\n",
    "        #6 append the project link\n",
    "        links.append(project_link)"
   ]
  },
  {
   "cell_type": "code",
   "execution_count": 59,
   "metadata": {},
   "outputs": [
    {
     "data": {
      "text/plain": [
       "['https://xn--80afcdbalict6afooklqi5o.xn--p1ai/public/application/item?id=a1a316a3-188f-4951-990a-3afea071c43d',\n",
       " 'https://xn--80afcdbalict6afooklqi5o.xn--p1ai/public/application/item?id=71ee361f-78f0-4c1f-9ff8-8d69e067ae84',\n",
       " 'https://xn--80afcdbalict6afooklqi5o.xn--p1ai/public/application/item?id=fdc1cabf-2085-4a68-b117-627b5ad5fb33',\n",
       " 'https://xn--80afcdbalict6afooklqi5o.xn--p1ai/public/application/item?id=6fb761e0-e5cf-4e94-946a-d50af51471db',\n",
       " 'https://xn--80afcdbalict6afooklqi5o.xn--p1ai/public/application/item?id=1d0610c4-91e2-47cb-8d7a-3ed6f8899999',\n",
       " 'https://xn--80afcdbalict6afooklqi5o.xn--p1ai/public/application/item?id=34df80a8-a0a5-4bd9-a4e0-186783262661',\n",
       " 'https://xn--80afcdbalict6afooklqi5o.xn--p1ai/public/application/item?id=c54bc973-421f-47b2-9001-dccb4267eeda',\n",
       " 'https://xn--80afcdbalict6afooklqi5o.xn--p1ai/public/application/item?id=8cd69e76-759e-47c5-a6f8-07e98ac4dbc2',\n",
       " 'https://xn--80afcdbalict6afooklqi5o.xn--p1ai/public/application/item?id=95d78911-90de-4999-9951-7dcbbaa1eb2f',\n",
       " 'https://xn--80afcdbalict6afooklqi5o.xn--p1ai/public/application/item?id=5d076990-2813-418d-93bc-c5dc56745081',\n",
       " 'https://xn--80afcdbalict6afooklqi5o.xn--p1ai/public/application/item?id=1304d09a-e5f3-4885-aa63-41b759395ac1',\n",
       " 'https://xn--80afcdbalict6afooklqi5o.xn--p1ai/public/application/item?id=9e0417e5-b65a-4891-b657-8cf59a09caa9',\n",
       " 'https://xn--80afcdbalict6afooklqi5o.xn--p1ai/public/application/item?id=bfe5b43b-f242-4147-a359-0e600a14d0e0',\n",
       " 'https://xn--80afcdbalict6afooklqi5o.xn--p1ai/public/application/item?id=2157849d-820d-482c-90f4-9f3c41c9646b',\n",
       " 'https://xn--80afcdbalict6afooklqi5o.xn--p1ai/public/application/item?id=1ec3e8ee-ce21-4b9a-9239-03fbd6fdcd65',\n",
       " 'https://xn--80afcdbalict6afooklqi5o.xn--p1ai/public/application/item?id=1fe775cd-e626-4113-94e4-7813fafe0aef',\n",
       " 'https://xn--80afcdbalict6afooklqi5o.xn--p1ai/public/application/item?id=a0d765a0-73e6-4dc4-bc6d-5ddb998f2fc7',\n",
       " 'https://xn--80afcdbalict6afooklqi5o.xn--p1ai/public/application/item?id=32b4bfc4-ed07-4ff9-b6fa-229bc4946103',\n",
       " 'https://xn--80afcdbalict6afooklqi5o.xn--p1ai/public/application/item?id=95e3bbae-6448-4537-9dd9-553b79e512b1',\n",
       " 'https://xn--80afcdbalict6afooklqi5o.xn--p1ai/public/application/item?id=f5293ef3-f27a-4c1f-8a91-704163d78511',\n",
       " 'https://xn--80afcdbalict6afooklqi5o.xn--p1ai/public/application/item?id=17e314f7-bf26-4b84-9a4f-39f2ca889298',\n",
       " 'https://xn--80afcdbalict6afooklqi5o.xn--p1ai/public/application/item?id=8fc4da61-7da1-45d1-bf8c-d295ff330519',\n",
       " 'https://xn--80afcdbalict6afooklqi5o.xn--p1ai/public/application/item?id=d00ccc1d-d555-4fcc-ae26-fb0cc686b29f',\n",
       " 'https://xn--80afcdbalict6afooklqi5o.xn--p1ai/public/application/item?id=a3ba1111-730c-4aac-8452-c9e79f87c191',\n",
       " 'https://xn--80afcdbalict6afooklqi5o.xn--p1ai/public/application/item?id=7019cc42-0b3b-4c91-8402-3a0461ad1ca7',\n",
       " 'https://xn--80afcdbalict6afooklqi5o.xn--p1ai/public/application/item?id=3434d61e-d03d-453b-8b5e-6ab81b944e02',\n",
       " 'https://xn--80afcdbalict6afooklqi5o.xn--p1ai/public/application/item?id=8a5d5a0b-dac0-4763-90fe-00db1aa727c8',\n",
       " 'https://xn--80afcdbalict6afooklqi5o.xn--p1ai/public/application/item?id=78847dd3-3369-4072-8992-306a2bdb10be',\n",
       " 'https://xn--80afcdbalict6afooklqi5o.xn--p1ai/public/application/item?id=7953dad8-e8e4-4370-955d-df66f544ca5b',\n",
       " 'https://xn--80afcdbalict6afooklqi5o.xn--p1ai/public/application/item?id=98028c0f-e62b-4ad3-93a5-8cfeb1e96ce9',\n",
       " 'https://xn--80afcdbalict6afooklqi5o.xn--p1ai/public/application/item?id=a5d9c659-83a4-4e01-8db3-acebfa71ffb1',\n",
       " 'https://xn--80afcdbalict6afooklqi5o.xn--p1ai/public/application/item?id=962d4e03-139d-4a41-8891-382529d98a15',\n",
       " 'https://xn--80afcdbalict6afooklqi5o.xn--p1ai/public/application/item?id=9b5f90d8-7d12-47b8-8510-efa93782cb26',\n",
       " 'https://xn--80afcdbalict6afooklqi5o.xn--p1ai/public/application/item?id=c9587b0f-8cf5-4708-aac6-3532aedc1dee',\n",
       " 'https://xn--80afcdbalict6afooklqi5o.xn--p1ai/public/application/item?id=552e638a-0c51-458d-8404-b143f9b66b08',\n",
       " 'https://xn--80afcdbalict6afooklqi5o.xn--p1ai/public/application/item?id=484a1e2a-a07e-4a3b-8b3d-5458e7ac17d9',\n",
       " 'https://xn--80afcdbalict6afooklqi5o.xn--p1ai/public/application/item?id=4437879c-beee-4b97-9fc5-e78923e4622e',\n",
       " 'https://xn--80afcdbalict6afooklqi5o.xn--p1ai/public/application/item?id=eb51ebf4-da1f-4895-bf75-ce197fc098f5',\n",
       " 'https://xn--80afcdbalict6afooklqi5o.xn--p1ai/public/application/item?id=24f78f28-3ed3-434e-9298-d25b47a9d988',\n",
       " 'https://xn--80afcdbalict6afooklqi5o.xn--p1ai/public/application/item?id=a45d7db7-31c7-4187-afe0-47349942ec80']"
      ]
     },
     "execution_count": 59,
     "metadata": {},
     "output_type": "execute_result"
    }
   ],
   "source": [
    "links"
   ]
  },
  {
   "cell_type": "code",
   "execution_count": 83,
   "metadata": {},
   "outputs": [],
   "source": [
    "def string_to_float(string):\n",
    "# Удаление пробелов из строки\n",
    "    string_value = string.replace(' ', '')\n",
    "# Замена символа разделителя десятичной части\n",
    "    string_value = string_value.replace(',', '.')\n",
    "# Удаление символа валюты\n",
    "    string_value = string_value.replace('₽', '')\n",
    "# Преобразование строки в число\n",
    "    return (float(string_value))\n",
    "\n"
   ]
  },
  {
   "cell_type": "code",
   "execution_count": 64,
   "metadata": {},
   "outputs": [],
   "source": [
    "    # load the web page\n",
    "driver.get(links[1])\n",
    "\n",
    "    # set maximum time to load the web page in seconds\n",
    "driver.implicitly_wait(10)\n",
    "    \n"
   ]
  },
  {
   "cell_type": "code",
   "execution_count": 85,
   "metadata": {},
   "outputs": [
    {
     "data": {
      "text/plain": [
       "2221410.0"
      ]
     },
     "execution_count": 85,
     "metadata": {},
     "output_type": "execute_result"
    }
   ],
   "source": [
    "    # collect data that are withing the id of contents\n",
    "contents_project = driver.find_element(By.CLASS_NAME, \"wrapper\")\n",
    "\n",
    "#статус проекта\n",
    "page_element = contents_project.find_element(By.CLASS_NAME, \"winner-info__status\")\n",
    "project_status = page_element.find_element(By.CSS_SELECTOR,\"span\").text  \n",
    "#название проекта\n",
    "project_title = contents_project.find_element(By.CLASS_NAME,\"winner-info__title\").text   \n",
    "# прайс проекта запрашиваемая\n",
    "project_prices= contents_project.find_elements(By.CSS_SELECTOR,\"li.circle-bar__info-item\")\n",
    "project_price = project_prices[0].find_element(By.CLASS_NAME,\"circle-bar__info-item-number\")\n",
    "project_price_1 = string_to_float(project_price.text)\n",
    "# прайс проекта софинансирование\n",
    "project_price = project_prices[1].find_element(By.CLASS_NAME,\"circle-bar__info-item-number\")\n",
    "project_price_2 = string_to_float(project_price.text)\n",
    "project_price_2"
   ]
  },
  {
   "cell_type": "code",
   "execution_count": null,
   "metadata": {},
   "outputs": [],
   "source": [
    "\n",
    "'2 030 000,00 ₽'\n",
    " \n",
    "\n"
   ]
  },
  {
   "cell_type": "markdown",
   "metadata": {},
   "source": [
    "<ul class=\"circle-bar__info\">\n",
    "                                            <li class=\"circle-bar__info-item\">\n",
    "                                                <span class=\"circle-bar__info-item-title\">Запрашиваемая сумма</span>\n",
    "                                                <span class=\"circle-bar__info-item-number\">2 030 000,00 <span class=\"rubl\">₽</span></span>\n",
    "                                            </li>\n",
    "                                                <li class=\"circle-bar__info-item\">\n",
    "                                                    <span class=\"circle-bar__info-item-title\">Cофинансирование</span>\n",
    "                                                    <span class=\"circle-bar__info-item-number\">2 221 410,00 <span class=\"rubl\">₽</span></span>\n",
    "                                                </li>\n",
    "                                                <li class=\"circle-bar__info-item\">\n",
    "                                                    <span class=\"circle-bar__info-item-title\">Общая сумма расходов на реализацию проекта</span>&nbsp;\n",
    "                                                    <span class=\"circle-bar__info-item-number\">4 251 410,00 <span class=\"rubl\">₽</span></span>\n",
    "                                                </li>\n",
    "                                        </ul>"
   ]
  },
  {
   "cell_type": "code",
   "execution_count": null,
   "metadata": {},
   "outputs": [],
   "source": [
    "\n",
    "contest=[]\n",
    "for project in project_elements:\n",
    "       #5 Extract the link\n",
    "    project_element = project.get_attribute(\"href\")\n",
    "        #6 append the project link\n",
    "    contest.append(project_element)"
   ]
  },
  {
   "cell_type": "code",
   "execution_count": 49,
   "metadata": {},
   "outputs": [
    {
     "data": {
      "text/plain": [
       "[<selenium.webdriver.remote.webelement.WebElement (session=\"007f83793c3180d96c34526f008b2dd6\", element=\"72a55172-0732-47cb-9c03-d552cdaa3278\")>,\n",
       " <selenium.webdriver.remote.webelement.WebElement (session=\"007f83793c3180d96c34526f008b2dd6\", element=\"240a8247-8dd0-4ef5-be8c-25fa45739f73\")>,\n",
       " <selenium.webdriver.remote.webelement.WebElement (session=\"007f83793c3180d96c34526f008b2dd6\", element=\"ffe63ec5-0fb0-4c6a-8991-513ac1903fc7\")>,\n",
       " <selenium.webdriver.remote.webelement.WebElement (session=\"007f83793c3180d96c34526f008b2dd6\", element=\"5866c711-b5df-496a-aca6-94f2e6991dd0\")>,\n",
       " <selenium.webdriver.remote.webelement.WebElement (session=\"007f83793c3180d96c34526f008b2dd6\", element=\"be605fdb-0242-47c7-a78f-3228684ff624\")>,\n",
       " <selenium.webdriver.remote.webelement.WebElement (session=\"007f83793c3180d96c34526f008b2dd6\", element=\"572803d3-ab73-4bfd-8b11-cd6c5dd96661\")>,\n",
       " <selenium.webdriver.remote.webelement.WebElement (session=\"007f83793c3180d96c34526f008b2dd6\", element=\"af55ed72-faf7-4da0-b663-bbb57cd71f1e\")>,\n",
       " <selenium.webdriver.remote.webelement.WebElement (session=\"007f83793c3180d96c34526f008b2dd6\", element=\"9a3aa467-842a-4edc-90ab-617dae7570ed\")>,\n",
       " <selenium.webdriver.remote.webelement.WebElement (session=\"007f83793c3180d96c34526f008b2dd6\", element=\"bd7d0321-450f-430f-9ce6-8509828ddade\")>,\n",
       " <selenium.webdriver.remote.webelement.WebElement (session=\"007f83793c3180d96c34526f008b2dd6\", element=\"c194c108-567c-42c4-9a2e-bd2e8dfb97c8\")>,\n",
       " <selenium.webdriver.remote.webelement.WebElement (session=\"007f83793c3180d96c34526f008b2dd6\", element=\"c469792a-fe10-4c4f-9a86-40856094f193\")>,\n",
       " <selenium.webdriver.remote.webelement.WebElement (session=\"007f83793c3180d96c34526f008b2dd6\", element=\"03b11729-55a7-4383-aaba-1c265c147798\")>,\n",
       " <selenium.webdriver.remote.webelement.WebElement (session=\"007f83793c3180d96c34526f008b2dd6\", element=\"44c365bc-b2be-4ebb-bd72-28bd14ec01c6\")>,\n",
       " <selenium.webdriver.remote.webelement.WebElement (session=\"007f83793c3180d96c34526f008b2dd6\", element=\"08e6278a-5b8e-4889-aa75-2e821bb4ce4e\")>,\n",
       " <selenium.webdriver.remote.webelement.WebElement (session=\"007f83793c3180d96c34526f008b2dd6\", element=\"bd0b435c-a06c-4ad9-807f-5efacdf6a96f\")>,\n",
       " <selenium.webdriver.remote.webelement.WebElement (session=\"007f83793c3180d96c34526f008b2dd6\", element=\"70186cf5-a45f-4120-af98-74427c8d5228\")>,\n",
       " <selenium.webdriver.remote.webelement.WebElement (session=\"007f83793c3180d96c34526f008b2dd6\", element=\"8ebc2cc4-d3b1-4684-9e25-b14d6cc796a4\")>,\n",
       " <selenium.webdriver.remote.webelement.WebElement (session=\"007f83793c3180d96c34526f008b2dd6\", element=\"7f70f4ce-2a7c-4053-bf59-80048715c34c\")>,\n",
       " <selenium.webdriver.remote.webelement.WebElement (session=\"007f83793c3180d96c34526f008b2dd6\", element=\"bf97c9df-ab64-4c60-8a59-037b6b465f52\")>,\n",
       " <selenium.webdriver.remote.webelement.WebElement (session=\"007f83793c3180d96c34526f008b2dd6\", element=\"0399c44b-2598-4feb-90f7-3b0fdb0a54a3\")>]"
      ]
     },
     "execution_count": 49,
     "metadata": {},
     "output_type": "execute_result"
    }
   ],
   "source": [
    "# collect data that are withing the id of contents\n",
    "contents = driver.find_element(By.CLASS_NAME, \"projects__table\")\n",
    "\n",
    "#1 Get all the by video tite link using id video-title-link\n",
    "project_elements = contents.find_elements(By.CLASS_NAME, \"table__row\")\n",
    "project_elements"
   ]
  },
  {
   "cell_type": "code",
   "execution_count": 50,
   "metadata": {},
   "outputs": [],
   "source": [
    "#2 collect title and link for each youtube video\n",
    "titles = []\n",
    "links = []\n",
    "\n",
    "for project in project_elements:\n",
    "\n",
    "    #3 Extract the video title\n",
    "    project_title = project.find_element(By.CLASS_NAME, \"projects__title-sub\")\n",
    "    project_title_1=project_title.find_element(By.CLASS_NAME, \"direction\")\n",
    "    #4 append the video title\n",
    "    titles.append(project_title_1)\n",
    "\n",
    "    #5 Extract the video link\n",
    "    #project_link = project.get_attribute(\"href\")\n",
    "\n",
    "    #6 append the project link\n",
    "    #links.append(project_link)\n",
    "    #  projects__title\n",
    "    # contest\n",
    "    # direction"
   ]
  },
  {
   "cell_type": "code",
   "execution_count": 51,
   "metadata": {},
   "outputs": [
    {
     "data": {
      "text/plain": [
       "'Охрана здоровья граждан, пропаганда здорового образа жизни'"
      ]
     },
     "execution_count": 51,
     "metadata": {},
     "output_type": "execute_result"
    }
   ],
   "source": [
    "titles[1].text"
   ]
  },
  {
   "cell_type": "code",
   "execution_count": 52,
   "metadata": {},
   "outputs": [],
   "source": [
    "#1 Get all the by video tite link using id video-title-link\n",
    "project_links = contents.find_elements(By.TAG_NAME, \"a\")\n",
    "#project_elements"
   ]
  },
  {
   "cell_type": "code",
   "execution_count": 53,
   "metadata": {},
   "outputs": [],
   "source": [
    "#2 collect title and link for each youtube video\n",
    "titles = []\n",
    "links = []\n",
    "\n",
    "for project in project_links:\n",
    "\n",
    "    #3 Extract the video title\n",
    "    #video_title = video.get_attribute(\"title\")\n",
    "\n",
    "    #4 append the video title\n",
    "    #titles.append(video_title)\n",
    "\n",
    "    #5 Extract the video link\n",
    "    project_link = project.get_attribute(\"href\")\n",
    "\n",
    "    #6 append the project link\n",
    "    links.append(project_link)"
   ]
  },
  {
   "cell_type": "code",
   "execution_count": 54,
   "metadata": {},
   "outputs": [
    {
     "data": {
      "text/plain": [
       "['https://xn--80afcdbalict6afooklqi5o.xn--p1ai/public/application/item?id=a1a316a3-188f-4951-990a-3afea071c43d',\n",
       " 'https://xn--80afcdbalict6afooklqi5o.xn--p1ai/public/application/item?id=71ee361f-78f0-4c1f-9ff8-8d69e067ae84',\n",
       " 'https://xn--80afcdbalict6afooklqi5o.xn--p1ai/public/application/item?id=fdc1cabf-2085-4a68-b117-627b5ad5fb33',\n",
       " 'https://xn--80afcdbalict6afooklqi5o.xn--p1ai/public/application/item?id=6fb761e0-e5cf-4e94-946a-d50af51471db',\n",
       " 'https://xn--80afcdbalict6afooklqi5o.xn--p1ai/public/application/item?id=1d0610c4-91e2-47cb-8d7a-3ed6f8899999',\n",
       " 'https://xn--80afcdbalict6afooklqi5o.xn--p1ai/public/application/item?id=34df80a8-a0a5-4bd9-a4e0-186783262661',\n",
       " 'https://xn--80afcdbalict6afooklqi5o.xn--p1ai/public/application/item?id=c54bc973-421f-47b2-9001-dccb4267eeda',\n",
       " 'https://xn--80afcdbalict6afooklqi5o.xn--p1ai/public/application/item?id=8cd69e76-759e-47c5-a6f8-07e98ac4dbc2',\n",
       " 'https://xn--80afcdbalict6afooklqi5o.xn--p1ai/public/application/item?id=95d78911-90de-4999-9951-7dcbbaa1eb2f',\n",
       " 'https://xn--80afcdbalict6afooklqi5o.xn--p1ai/public/application/item?id=5d076990-2813-418d-93bc-c5dc56745081',\n",
       " 'https://xn--80afcdbalict6afooklqi5o.xn--p1ai/public/application/item?id=1304d09a-e5f3-4885-aa63-41b759395ac1',\n",
       " 'https://xn--80afcdbalict6afooklqi5o.xn--p1ai/public/application/item?id=9e0417e5-b65a-4891-b657-8cf59a09caa9',\n",
       " 'https://xn--80afcdbalict6afooklqi5o.xn--p1ai/public/application/item?id=bfe5b43b-f242-4147-a359-0e600a14d0e0',\n",
       " 'https://xn--80afcdbalict6afooklqi5o.xn--p1ai/public/application/item?id=2157849d-820d-482c-90f4-9f3c41c9646b',\n",
       " 'https://xn--80afcdbalict6afooklqi5o.xn--p1ai/public/application/item?id=1ec3e8ee-ce21-4b9a-9239-03fbd6fdcd65',\n",
       " 'https://xn--80afcdbalict6afooklqi5o.xn--p1ai/public/application/item?id=1fe775cd-e626-4113-94e4-7813fafe0aef',\n",
       " 'https://xn--80afcdbalict6afooklqi5o.xn--p1ai/public/application/item?id=a0d765a0-73e6-4dc4-bc6d-5ddb998f2fc7',\n",
       " 'https://xn--80afcdbalict6afooklqi5o.xn--p1ai/public/application/item?id=32b4bfc4-ed07-4ff9-b6fa-229bc4946103',\n",
       " 'https://xn--80afcdbalict6afooklqi5o.xn--p1ai/public/application/item?id=95e3bbae-6448-4537-9dd9-553b79e512b1',\n",
       " 'https://xn--80afcdbalict6afooklqi5o.xn--p1ai/public/application/item?id=f5293ef3-f27a-4c1f-8a91-704163d78511']"
      ]
     },
     "execution_count": 54,
     "metadata": {},
     "output_type": "execute_result"
    }
   ],
   "source": [
    "links"
   ]
  },
  {
   "cell_type": "code",
   "execution_count": null,
   "metadata": {},
   "outputs": [],
   "source": [
    "#1 Get all the by video tite link using id video-title-link\n",
    "video_elements = contents.find_elements(By.ID, \"video-title-link\")\n",
    "\n",
    "\n",
    "#2 collect title and link for each youtube video\n",
    "titles = []\n",
    "links = []\n",
    "\n",
    "for video in video_elements:\n",
    "\n",
    "    #3 Extract the video title\n",
    "    video_title = video.get_attribute(\"title\")\n",
    "\n",
    "    #4 append the video title\n",
    "    titles.append(video_title)\n",
    "\n",
    "    #5 Extract the video link\n",
    "    video_link = video.get_attribute(\"href\")\n",
    "\n",
    "#6 append the video link\n",
    "links.append(video_link)"
   ]
  }
 ],
 "metadata": {
  "kernelspec": {
   "display_name": "Python 3.8.9 64-bit",
   "language": "python",
   "name": "python3"
  },
  "language_info": {
   "codemirror_mode": {
    "name": "ipython",
    "version": 3
   },
   "file_extension": ".py",
   "mimetype": "text/x-python",
   "name": "python",
   "nbconvert_exporter": "python",
   "pygments_lexer": "ipython3",
   "version": "3.8.9"
  },
  "vscode": {
   "interpreter": {
    "hash": "0bb6518776f282d6c815a2db9d69e968a0c1ac0532245e89f01e39f2feb0c770"
   }
  }
 },
 "nbformat": 4,
 "nbformat_minor": 2
}
