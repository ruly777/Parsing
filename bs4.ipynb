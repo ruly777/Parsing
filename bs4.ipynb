{
 "cells": [
  {
   "cell_type": "code",
   "execution_count": 2,
   "id": "09d256a7-1316-4ec5-846a-9ad1aee1d203",
   "metadata": {
    "tags": []
   },
   "outputs": [
    {
     "name": "stdout",
     "output_type": "stream",
     "text": [
      "<body>\n",
      "</body>\n",
      "<script nonce=\"bcfb29f5cc326998922249b132da7636\">\n",
      " var it = {\"host\":\"https:\\u002F\\u002Fsso.dzen.ru\\u002Finstall?uuid=c28422ba-d362-4803-a7eb-8412b26b0ee2\",\"retpath\":\"https:\\u002F\\u002Fdzen.ru\\u002F?yredirect=true\"};(function() { var form = document.createElement('form'); var element1 = document.createElement('input'); var element2 = document.createElement('input'); element1.name = 'retpath'; element1.type = 'hidden'; element1.value = it.retpath; form.appendChild(element1); element2.name = 'container'; element2.type = 'hidden'; element2.value = '1707331925.10142432.VRQUOWfxFiz9m1W0.GKIkgUhJ2n5sd1vZCWtE7-1pqFnsXYzkw4seNkO2J19IxM_Zf2NYwP5q5dDfyTno9s9myPBibHNFdVirLsFgzD9rM_PxkVd-eU1L-nInN2EuNYTyy7YxuKux7s87Wkdf7KS7TQtjNf6eDgI_txIpk7ziBT_OTQg5W_H3p2mUGhXWUnNjJtbPL74jWiK4CMJY5G0tEqvGlNh-hMIrb8vdkf2UavjlagUuCy7N6PHAK25VL3MCfkpUTAEDnNnz4jd0rpqFsBFS5oUpBfe31bv0S709vbboqFpgvcvWHX8Ore_jCkXzhJ4RVXgtOEFyE3LTNEnvlsfTBAsDGwuYr0xdpZGwjVzcWUP0ItA2b-QRDvn_gu2aU67gbwWph_nF9jX61rLg-oF2MhCBlKvGbaeBsLWyD72hB6mWVI06HFWXWO-b2geDj-Xv6yj4HUuov55fwMofADf4VEZEezoq32Xn2GpygQtZYumhiZhsWsE0z4ALtHWHqBAsNbY5bd2Pych95t5BeB2mwxIoB3QxE7hc8_4VJm4w5cN1oiL9jwUZ7FHjDbeKsKqgmwpb1qh87f_nCkyAeoqyTNbME8vOfERVpvH90sbgZL-3RLKW0Gn1Ndh60GLgUovmrfpJUaghfUQf3Sdk_MdDljHXOOi2z2mV3T9FpddnBQi8g8CbcEv4ZzPWrcqd90mH0kH2ZCB2ofK5-L_BCUKHejVgd492DR9NUsWjPOSuf5IEgaaH-rMxLkPQ3H0HlcxVJbjevi31MIrerkvWJAns0jAK3Ykbq1xD7fIQGrDMTRmye_Z1Nsy6egPy2mZ10Cv3_WQUJD31vny4ron4NJvTKxbCqMVf0ApjBJI5UMnPcNuRF3g0zPQ9qbKXsZtJHtXbdvZlR9iR9l_QFuER8Uj9SwW34WUWvvWFt9gAvJM8JGVv8lxMnzxq0lC_c9Fw19903grWl-l7sXC5lJtrpUGT7V2WaiQeESqxcW_y2-RYWLQIz7QIwoh1F3gyrsgc0ONIfmindRVPTUv9ylAvhdYVh1GFF8_7YhlmTt4DtgIbAPperZKG_UBn_RzaoD8fMXUSmRSqLhBZFtxYuLnH8Mjwe1-rRWJCoAuvjVYWn-81h2OYJrbErapKldAIt3iDond1PhJkz-hf-gBwWBUV5VbNgQJGT1p1KxtmysLsMW7LxyOqmnZ2aAi5T93IkhX_.Zlx2Qg26jnDzc32t7Bw3Qg'; form.appendChild(element2); form.method = 'POST'; form.action = it.host; document.body.appendChild(form); form.submit();})();\n",
      "</script>\n",
      "\n"
     ]
    }
   ],
   "source": [
    "import requests\n",
    "from bs4 import BeautifulSoup\n",
    "\n",
    "url = 'https://yandex.ru/'\n",
    "r = requests.get(url, timeout=10) # verify=False\n",
    "soup = BeautifulSoup(r.content, 'html.parser')\n",
    "print(soup.prettify())"
   ]
  },
  {
   "cell_type": "markdown",
   "id": "d2654103-7e16-469d-9645-f141a8872ada",
   "metadata": {},
   "source": [
    "> Примечание: советую использовать два параметра — `verify` и `timeout`, так как иногда сайты блокируют моментальный доступ или требуют верификацию. Можно их не использовать.\n",
    "\n",
    "> Примечание: советую использовать в `BeautifulSoup(r.content, ‘html.parser')` либо `html.parser` либо `lxml`. `lxml` чуточку быстрее."
   ]
  },
  {
   "cell_type": "markdown",
   "id": "8518b994-13fe-402b-b91e-99dcc2f51274",
   "metadata": {},
   "source": [
    "# Команды (методы)\n",
    "\n",
    "- `print(soup.prettify())` - Вывести полный код страницы\n",
    "\n",
    "- `print(soup.get_text())` - Вывести весь текст страницы\n",
    "\n",
    "- `soup.find_all('p')` - Получение всех тегов `<p>`\n",
    "\n",
    "- `soup.find('h1')` - Получение первого тега `<h1>`\n",
    "\n",
    "- `soup.find_all(class_='content')` - Получение всех элементов с классом `'content'`\n",
    "\n",
    "- `soup.find(id='main')` - Получение элемента с идентификатором `'main'`\n",
    "\n",
    "- `soup.find('p').text` - Получение текста из первого тега `<p>`\n",
    "\n",
    "- `for p in soup.find_all('p'): print(p.text)` - Получение текста со всех тегов `<p>` for p\n",
    "\n",
    "- `soup.select()` - Искать элементы с помощью CSS селекторов\n",
    "\n",
    "- `soup.select_one()` - Искать первый элемент, соответствующий указанным CSS селекторам\n",
    "\n",
    "- `tag.parent` - Возвращает родительский элемент тега\n",
    "\n",
    "- `tag.children` - Возвращает итератор по дочерним элементам тега\n",
    "\n",
    "- `tag.next_sibling` - Возвращает следующий соседний элемент тега\n",
    "\n",
    "- `tag.previous_sibling` - Возвращает предыдущий соседний элемент тега"
   ]
  },
  {
   "cell_type": "code",
   "execution_count": null,
   "id": "dd53bef0-5e69-41f2-a645-dbb37c792353",
   "metadata": {},
   "outputs": [],
   "source": []
  }
 ],
 "metadata": {
  "kernelspec": {
   "display_name": "Python 3.8.9 64-bit",
   "language": "python",
   "name": "python3"
  },
  "language_info": {
   "codemirror_mode": {
    "name": "ipython",
    "version": 3
   },
   "file_extension": ".py",
   "mimetype": "text/x-python",
   "name": "python",
   "nbconvert_exporter": "python",
   "pygments_lexer": "ipython3",
   "version": "3.8.9"
  },
  "vscode": {
   "interpreter": {
    "hash": "0bb6518776f282d6c815a2db9d69e968a0c1ac0532245e89f01e39f2feb0c770"
   }
  }
 },
 "nbformat": 4,
 "nbformat_minor": 5
}
