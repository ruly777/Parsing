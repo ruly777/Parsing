{
 "cells": [
  {
   "cell_type": "markdown",
   "id": "eb38da24-2c95-4374-b58e-67f151ce5e76",
   "metadata": {},
   "source": [
    "# Работа с API"
   ]
  },
  {
   "cell_type": "markdown",
   "id": "4b952084-181d-4ccc-b2eb-1c30b4b057e4",
   "metadata": {},
   "source": [
    "API – это механизмы, которые позволяют двум программным компонентам взаимодействовать друг с другом, используя набор определений и протоколов. Например, система ПО метеослужбы содержит ежедневные данные о погоде. Приложение погоды на телефоне «общается» с этой системой через API и показывает ежедневные обновления погоды на телефоне.\n",
    "\n",
    "С помощью API можно легко собрать нужную информацию из сайта или приложения."
   ]
  },
  {
   "cell_type": "markdown",
   "id": "882d66c1-cfb5-4eef-9085-6936c58b66f0",
   "metadata": {},
   "source": [
    "# На примере HH"
   ]
  },
  {
   "cell_type": "code",
   "execution_count": null,
   "id": "c637bd2d-3b06-4f36-9478-4b669e997d0c",
   "metadata": {
    "tags": []
   },
   "outputs": [],
   "source": [
    "# !pip install -U requests"
   ]
  },
  {
   "cell_type": "code",
   "execution_count": 1,
   "id": "39569262-7ceb-4077-b916-70a45cf15031",
   "metadata": {
    "tags": []
   },
   "outputs": [],
   "source": [
    "import requests\n",
    "\n",
    "import pandas as pd"
   ]
  },
  {
   "cell_type": "code",
   "execution_count": 2,
   "id": "4342818e-3c5e-48af-8752-f8cfe5c8bad3",
   "metadata": {
    "tags": []
   },
   "outputs": [],
   "source": [
    "url = 'https://api.hh.ru/vacancies'\n",
    "\n",
    "text = 'аналитик данных'"
   ]
  },
  {
   "cell_type": "code",
   "execution_count": 3,
   "id": "4f3e197b-c931-4ebc-80c2-57df72402460",
   "metadata": {
    "tags": []
   },
   "outputs": [],
   "source": [
    "parameters = {\n",
    "    'vacancy_search_fields': 'name',\n",
    "    'text': text,\n",
    "    'area': '113',\n",
    "    'per_page': '10',\n",
    "    'page': 1,\n",
    "    'responses_count_enabled': True,\n",
    "}"
   ]
  },
  {
   "cell_type": "code",
   "execution_count": 4,
   "id": "c73b6b94-3081-47fe-b888-a1f5001709ef",
   "metadata": {
    "tags": []
   },
   "outputs": [
    {
     "data": {
      "text/plain": [
       "<Response [200]>"
      ]
     },
     "execution_count": 4,
     "metadata": {},
     "output_type": "execute_result"
    }
   ],
   "source": [
    "r = requests.get(url, params=parameters)\n",
    "r"
   ]
  },
  {
   "cell_type": "code",
   "execution_count": 5,
   "id": "2764de61-f2de-4e0d-9df1-03f2cbd23926",
   "metadata": {
    "tags": []
   },
   "outputs": [],
   "source": [
    "vacancies_info = r.json()"
   ]
  },
  {
   "cell_type": "code",
   "execution_count": 6,
   "id": "2eefb6b5-27b5-4c8a-970c-8cfe88e42b37",
   "metadata": {
    "tags": []
   },
   "outputs": [],
   "source": [
    "df = pd.DataFrame({\n",
    "    'id':[],\n",
    "    'name':[],\n",
    "    'salary':[],\n",
    "    'company':[],\n",
    "    'url': []\n",
    "})"
   ]
  },
  {
   "cell_type": "code",
   "execution_count": 7,
   "id": "2afa97ec-eac4-42c6-9817-22bc6609c22b",
   "metadata": {
    "tags": []
   },
   "outputs": [],
   "source": [
    "for vac in vacancies_info['items']:\n",
    "    vac_parser = {\n",
    "        'id': vac['id'],\n",
    "        'name': vac['name'],\n",
    "        'salary': vac['salary'],\n",
    "        'company': vac['employer']['name'],\n",
    "        'url': vac['url']\n",
    "    }\n",
    "    df.loc[len(df)] = vac_parser"
   ]
  },
  {
   "cell_type": "code",
   "execution_count": 8,
   "id": "c0dc97fc-91dc-4141-abed-781244c6d08a",
   "metadata": {
    "tags": []
   },
   "outputs": [
    {
     "data": {
      "text/html": [
       "<div>\n",
       "<style scoped>\n",
       "    .dataframe tbody tr th:only-of-type {\n",
       "        vertical-align: middle;\n",
       "    }\n",
       "\n",
       "    .dataframe tbody tr th {\n",
       "        vertical-align: top;\n",
       "    }\n",
       "\n",
       "    .dataframe thead th {\n",
       "        text-align: right;\n",
       "    }\n",
       "</style>\n",
       "<table border=\"1\" class=\"dataframe\">\n",
       "  <thead>\n",
       "    <tr style=\"text-align: right;\">\n",
       "      <th></th>\n",
       "      <th>id</th>\n",
       "      <th>name</th>\n",
       "      <th>salary</th>\n",
       "      <th>company</th>\n",
       "      <th>url</th>\n",
       "    </tr>\n",
       "  </thead>\n",
       "  <tbody>\n",
       "    <tr>\n",
       "      <th>0</th>\n",
       "      <td>88284712</td>\n",
       "      <td>Финансовый аналитик</td>\n",
       "      <td>{'from': None, 'to': 220000, 'currency': 'RUR'...</td>\n",
       "      <td>SberTech</td>\n",
       "      <td>https://api.hh.ru/vacancies/88284712?host=hh.ru</td>\n",
       "    </tr>\n",
       "    <tr>\n",
       "      <th>1</th>\n",
       "      <td>86324076</td>\n",
       "      <td>Разработчик Python (junior)</td>\n",
       "      <td>{'from': None, 'to': 80000, 'currency': 'RUR',...</td>\n",
       "      <td>ANABAR</td>\n",
       "      <td>https://api.hh.ru/vacancies/86324076?host=hh.ru</td>\n",
       "    </tr>\n",
       "    <tr>\n",
       "      <th>2</th>\n",
       "      <td>88031308</td>\n",
       "      <td>Junior Data Analyst</td>\n",
       "      <td>None</td>\n",
       "      <td>VipDeposits</td>\n",
       "      <td>https://api.hh.ru/vacancies/88031308?host=hh.ru</td>\n",
       "    </tr>\n",
       "    <tr>\n",
       "      <th>3</th>\n",
       "      <td>88334720</td>\n",
       "      <td>Гейм-дизайнер</td>\n",
       "      <td>None</td>\n",
       "      <td>Ритейл-Процессинг</td>\n",
       "      <td>https://api.hh.ru/vacancies/88334720?host=hh.ru</td>\n",
       "    </tr>\n",
       "    <tr>\n",
       "      <th>4</th>\n",
       "      <td>87239633</td>\n",
       "      <td>QA engineer</td>\n",
       "      <td>None</td>\n",
       "      <td>Иннотех, Группа компаний</td>\n",
       "      <td>https://api.hh.ru/vacancies/87239633?host=hh.ru</td>\n",
       "    </tr>\n",
       "    <tr>\n",
       "      <th>5</th>\n",
       "      <td>88186907</td>\n",
       "      <td>Экономист-аналитик (junior data scientist)</td>\n",
       "      <td>None</td>\n",
       "      <td>Аналитический центр при Правительстве Российск...</td>\n",
       "      <td>https://api.hh.ru/vacancies/88186907?host=hh.ru</td>\n",
       "    </tr>\n",
       "    <tr>\n",
       "      <th>6</th>\n",
       "      <td>88233548</td>\n",
       "      <td>Стажер-Аналитик / Junior Analyst</td>\n",
       "      <td>None</td>\n",
       "      <td>Caltat</td>\n",
       "      <td>https://api.hh.ru/vacancies/88233548?host=hh.ru</td>\n",
       "    </tr>\n",
       "    <tr>\n",
       "      <th>7</th>\n",
       "      <td>87614461</td>\n",
       "      <td>Координатор</td>\n",
       "      <td>{'from': 153200, 'to': None, 'currency': 'RUR'...</td>\n",
       "      <td>SberTech</td>\n",
       "      <td>https://api.hh.ru/vacancies/87614461?host=hh.ru</td>\n",
       "    </tr>\n",
       "    <tr>\n",
       "      <th>8</th>\n",
       "      <td>88281262</td>\n",
       "      <td>Начальник склада</td>\n",
       "      <td>{'from': 120000, 'to': None, 'currency': 'RUR'...</td>\n",
       "      <td>ТД Ломоносовский фарфор</td>\n",
       "      <td>https://api.hh.ru/vacancies/88281262?host=hh.ru</td>\n",
       "    </tr>\n",
       "    <tr>\n",
       "      <th>9</th>\n",
       "      <td>86583145</td>\n",
       "      <td>Специалист по социальной работе</td>\n",
       "      <td>{'from': 91000, 'to': None, 'currency': 'RUR',...</td>\n",
       "      <td>ГБУЗ Центр паллиативной помощи ДЗМ</td>\n",
       "      <td>https://api.hh.ru/vacancies/86583145?host=hh.ru</td>\n",
       "    </tr>\n",
       "  </tbody>\n",
       "</table>\n",
       "</div>"
      ],
      "text/plain": [
       "         id                                        name  \\\n",
       "0  88284712                         Финансовый аналитик   \n",
       "1  86324076                 Разработчик Python (junior)   \n",
       "2  88031308                         Junior Data Analyst   \n",
       "3  88334720                               Гейм-дизайнер   \n",
       "4  87239633                                 QA engineer   \n",
       "5  88186907  Экономист-аналитик (junior data scientist)   \n",
       "6  88233548            Стажер-Аналитик / Junior Analyst   \n",
       "7  87614461                                 Координатор   \n",
       "8  88281262                            Начальник склада   \n",
       "9  86583145             Специалист по социальной работе   \n",
       "\n",
       "                                              salary  \\\n",
       "0  {'from': None, 'to': 220000, 'currency': 'RUR'...   \n",
       "1  {'from': None, 'to': 80000, 'currency': 'RUR',...   \n",
       "2                                               None   \n",
       "3                                               None   \n",
       "4                                               None   \n",
       "5                                               None   \n",
       "6                                               None   \n",
       "7  {'from': 153200, 'to': None, 'currency': 'RUR'...   \n",
       "8  {'from': 120000, 'to': None, 'currency': 'RUR'...   \n",
       "9  {'from': 91000, 'to': None, 'currency': 'RUR',...   \n",
       "\n",
       "                                             company  \\\n",
       "0                                           SberTech   \n",
       "1                                             ANABAR   \n",
       "2                                        VipDeposits   \n",
       "3                                  Ритейл-Процессинг   \n",
       "4                           Иннотех, Группа компаний   \n",
       "5  Аналитический центр при Правительстве Российск...   \n",
       "6                                             Caltat   \n",
       "7                                           SberTech   \n",
       "8                            ТД Ломоносовский фарфор   \n",
       "9                 ГБУЗ Центр паллиативной помощи ДЗМ   \n",
       "\n",
       "                                               url  \n",
       "0  https://api.hh.ru/vacancies/88284712?host=hh.ru  \n",
       "1  https://api.hh.ru/vacancies/86324076?host=hh.ru  \n",
       "2  https://api.hh.ru/vacancies/88031308?host=hh.ru  \n",
       "3  https://api.hh.ru/vacancies/88334720?host=hh.ru  \n",
       "4  https://api.hh.ru/vacancies/87239633?host=hh.ru  \n",
       "5  https://api.hh.ru/vacancies/88186907?host=hh.ru  \n",
       "6  https://api.hh.ru/vacancies/88233548?host=hh.ru  \n",
       "7  https://api.hh.ru/vacancies/87614461?host=hh.ru  \n",
       "8  https://api.hh.ru/vacancies/88281262?host=hh.ru  \n",
       "9  https://api.hh.ru/vacancies/86583145?host=hh.ru  "
      ]
     },
     "execution_count": 8,
     "metadata": {},
     "output_type": "execute_result"
    }
   ],
   "source": [
    "df"
   ]
  },
  {
   "cell_type": "markdown",
   "id": "d8f3320e-f0f5-4841-bf2f-2b6d0fcf2524",
   "metadata": {},
   "source": [
    "# Парсинг с помощью BeautifulSoup"
   ]
  },
  {
   "cell_type": "markdown",
   "id": "5fbc1829-16bc-4c9e-94f0-0c4d0f6e27fd",
   "metadata": {},
   "source": [
    "Beautiful Soup - это библиотека для Python, которая позволяет парсить (анализировать) HTML и XML документы. Она предоставляет удобный способ искать, навигировать, и модифицировать дерево DOM (Document Object Model), представляющее HTML/XML документ."
   ]
  },
  {
   "cell_type": "code",
   "execution_count": 22,
   "id": "86b65d79-b9ad-4a05-9616-46ebe9f1fc07",
   "metadata": {
    "tags": []
   },
   "outputs": [],
   "source": [
    "# !pip install -U beautifulsoup4"
   ]
  },
  {
   "cell_type": "code",
   "execution_count": 9,
   "id": "d36f474f-fbb5-49b2-91a0-218972a5365f",
   "metadata": {
    "tags": []
   },
   "outputs": [],
   "source": [
    "from bs4 import BeautifulSoup"
   ]
  },
  {
   "cell_type": "code",
   "execution_count": 10,
   "id": "92ef16bf-b082-4b00-922e-6c4e4cfbfc86",
   "metadata": {
    "tags": []
   },
   "outputs": [],
   "source": [
    "url = 'http://quotes.toscrape.com/'"
   ]
  },
  {
   "cell_type": "code",
   "execution_count": 11,
   "id": "0efbb375-1e5e-4571-bbbe-342b44cf78f7",
   "metadata": {
    "tags": []
   },
   "outputs": [
    {
     "data": {
      "text/plain": [
       "<Response [200]>"
      ]
     },
     "execution_count": 11,
     "metadata": {},
     "output_type": "execute_result"
    }
   ],
   "source": [
    "r = requests.get(url, verify=False, timeout=10)\n",
    "r"
   ]
  },
  {
   "cell_type": "code",
   "execution_count": 12,
   "id": "ebb1cdce-1e5e-4b50-aad0-ff7854acd406",
   "metadata": {
    "tags": []
   },
   "outputs": [],
   "source": [
    "soup = BeautifulSoup(r.content, 'html.parser')"
   ]
  },
  {
   "cell_type": "code",
   "execution_count": 13,
   "id": "4fcf7bb5-2885-44e8-ab5f-3fe04d9cdc6b",
   "metadata": {
    "tags": []
   },
   "outputs": [],
   "source": [
    "divs = soup.find_all('div', attrs={'class':'quote'})"
   ]
  },
  {
   "cell_type": "code",
   "execution_count": 14,
   "id": "e2d4f909-9700-4d5b-826a-1d4422bacf87",
   "metadata": {
    "tags": []
   },
   "outputs": [],
   "source": [
    "df = pd.DataFrame({\n",
    "    'text':[],\n",
    "    'author':[],\n",
    "    'author_url':[],\n",
    "    'tags':[],\n",
    "})"
   ]
  },
  {
   "cell_type": "code",
   "execution_count": 15,
   "id": "1702a2a4-e8df-45dd-a180-7d5d3bfaacec",
   "metadata": {
    "tags": []
   },
   "outputs": [],
   "source": [
    "def get_quotes(soup, data=df):\n",
    "    \n",
    "    divs = soup.find_all('div', attrs={'class':'quote'})\n",
    "    \n",
    "    for div in divs:\n",
    "        quote = {}\n",
    "        quote['text'] = div.find('span', class_='text').text\n",
    "        quote['author'] = div.find('small', class_='author').text\n",
    "        quote['author_url'] = div.find_all('span')[1].find('a').get('href')\n",
    "        tags = []\n",
    "        for a_tag in div.find('div', class_='tags').find_all('a', class_='tag'):\n",
    "            tags.append(a_tag.text)\n",
    "        quote['tags'] = ', '.join(tags)\n",
    "        df.loc[len(df)] = quote"
   ]
  },
  {
   "cell_type": "code",
   "execution_count": 16,
   "id": "777d9442-bc4f-4196-bd69-6b3224538863",
   "metadata": {
    "tags": []
   },
   "outputs": [
    {
     "name": "stdout",
     "output_type": "stream",
     "text": [
      "Page N:1\n",
      "Page N:2\n",
      "Page N:3\n",
      "Page N:4\n",
      "Page N:5\n",
      "Page N:6\n",
      "Page N:7\n",
      "Page N:8\n",
      "Page N:9\n",
      "Page N:10\n",
      "Page N:11\n"
     ]
    }
   ],
   "source": [
    "url = 'https://quotes.toscrape.com/page/'\n",
    "\n",
    "for i in range(1, 21):\n",
    "    print(f'Page N:{i}')\n",
    "    r = requests.get(url + str(i), timeout=10)\n",
    "    soup = BeautifulSoup(r.content, 'html.parser')\n",
    "    \n",
    "    get_quotes(soup, df)\n",
    "    \n",
    "    if 'No quotes found!' in soup.text:\n",
    "        break"
   ]
  },
  {
   "cell_type": "code",
   "execution_count": 17,
   "id": "f2be59f9-ec13-49ce-8b18-7400a5bf4a41",
   "metadata": {
    "tags": []
   },
   "outputs": [
    {
     "data": {
      "text/html": [
       "<div>\n",
       "<style scoped>\n",
       "    .dataframe tbody tr th:only-of-type {\n",
       "        vertical-align: middle;\n",
       "    }\n",
       "\n",
       "    .dataframe tbody tr th {\n",
       "        vertical-align: top;\n",
       "    }\n",
       "\n",
       "    .dataframe thead th {\n",
       "        text-align: right;\n",
       "    }\n",
       "</style>\n",
       "<table border=\"1\" class=\"dataframe\">\n",
       "  <thead>\n",
       "    <tr style=\"text-align: right;\">\n",
       "      <th></th>\n",
       "      <th>text</th>\n",
       "      <th>author</th>\n",
       "      <th>author_url</th>\n",
       "      <th>tags</th>\n",
       "    </tr>\n",
       "  </thead>\n",
       "  <tbody>\n",
       "    <tr>\n",
       "      <th>95</th>\n",
       "      <td>“You never really understand a person until yo...</td>\n",
       "      <td>Harper Lee</td>\n",
       "      <td>/author/Harper-Lee</td>\n",
       "      <td>better-life-empathy</td>\n",
       "    </tr>\n",
       "    <tr>\n",
       "      <th>96</th>\n",
       "      <td>“You have to write the book that wants to be w...</td>\n",
       "      <td>Madeleine L'Engle</td>\n",
       "      <td>/author/Madeleine-LEngle</td>\n",
       "      <td>books, children, difficult, grown-ups, write, ...</td>\n",
       "    </tr>\n",
       "    <tr>\n",
       "      <th>97</th>\n",
       "      <td>“Never tell the truth to people who are not wo...</td>\n",
       "      <td>Mark Twain</td>\n",
       "      <td>/author/Mark-Twain</td>\n",
       "      <td>truth</td>\n",
       "    </tr>\n",
       "    <tr>\n",
       "      <th>98</th>\n",
       "      <td>“A person's a person, no matter how small.”</td>\n",
       "      <td>Dr. Seuss</td>\n",
       "      <td>/author/Dr-Seuss</td>\n",
       "      <td>inspirational</td>\n",
       "    </tr>\n",
       "    <tr>\n",
       "      <th>99</th>\n",
       "      <td>“... a mind needs books as a sword needs a whe...</td>\n",
       "      <td>George R.R. Martin</td>\n",
       "      <td>/author/George-R-R-Martin</td>\n",
       "      <td>books, mind</td>\n",
       "    </tr>\n",
       "  </tbody>\n",
       "</table>\n",
       "</div>"
      ],
      "text/plain": [
       "                                                 text              author  \\\n",
       "95  “You never really understand a person until yo...          Harper Lee   \n",
       "96  “You have to write the book that wants to be w...   Madeleine L'Engle   \n",
       "97  “Never tell the truth to people who are not wo...          Mark Twain   \n",
       "98        “A person's a person, no matter how small.”           Dr. Seuss   \n",
       "99  “... a mind needs books as a sword needs a whe...  George R.R. Martin   \n",
       "\n",
       "                   author_url  \\\n",
       "95         /author/Harper-Lee   \n",
       "96   /author/Madeleine-LEngle   \n",
       "97         /author/Mark-Twain   \n",
       "98           /author/Dr-Seuss   \n",
       "99  /author/George-R-R-Martin   \n",
       "\n",
       "                                                 tags  \n",
       "95                                better-life-empathy  \n",
       "96  books, children, difficult, grown-ups, write, ...  \n",
       "97                                              truth  \n",
       "98                                      inspirational  \n",
       "99                                        books, mind  "
      ]
     },
     "execution_count": 17,
     "metadata": {},
     "output_type": "execute_result"
    }
   ],
   "source": [
    "df.tail()"
   ]
  },
  {
   "cell_type": "code",
   "execution_count": 66,
   "id": "ce83cd79-e338-48cc-a172-948623c8129e",
   "metadata": {
    "tags": []
   },
   "outputs": [
    {
     "data": {
      "text/html": [
       "<div>\n",
       "<style scoped>\n",
       "    .dataframe tbody tr th:only-of-type {\n",
       "        vertical-align: middle;\n",
       "    }\n",
       "\n",
       "    .dataframe tbody tr th {\n",
       "        vertical-align: top;\n",
       "    }\n",
       "\n",
       "    .dataframe thead th {\n",
       "        text-align: right;\n",
       "    }\n",
       "</style>\n",
       "<table border=\"1\" class=\"dataframe\">\n",
       "  <thead>\n",
       "    <tr style=\"text-align: right;\">\n",
       "      <th></th>\n",
       "      <th>text</th>\n",
       "      <th>author</th>\n",
       "      <th>author_url</th>\n",
       "      <th>tags</th>\n",
       "    </tr>\n",
       "  </thead>\n",
       "  <tbody>\n",
       "    <tr>\n",
       "      <th>0</th>\n",
       "      <td>“The world as we have created it is a process ...</td>\n",
       "      <td>Albert Einstein</td>\n",
       "      <td>/author/Albert-Einstein</td>\n",
       "      <td>change, deep-thoughts, thinking, world</td>\n",
       "    </tr>\n",
       "    <tr>\n",
       "      <th>1</th>\n",
       "      <td>“It is our choices, Harry, that show what we t...</td>\n",
       "      <td>J.K. Rowling</td>\n",
       "      <td>/author/J-K-Rowling</td>\n",
       "      <td>abilities, choices</td>\n",
       "    </tr>\n",
       "    <tr>\n",
       "      <th>2</th>\n",
       "      <td>“There are only two ways to live your life. On...</td>\n",
       "      <td>Albert Einstein</td>\n",
       "      <td>/author/Albert-Einstein</td>\n",
       "      <td>inspirational, life, live, miracle, miracles</td>\n",
       "    </tr>\n",
       "    <tr>\n",
       "      <th>3</th>\n",
       "      <td>“The person, be it gentleman or lady, who has ...</td>\n",
       "      <td>Jane Austen</td>\n",
       "      <td>/author/Jane-Austen</td>\n",
       "      <td>aliteracy, books, classic, humor</td>\n",
       "    </tr>\n",
       "    <tr>\n",
       "      <th>4</th>\n",
       "      <td>“Imperfection is beauty, madness is genius and...</td>\n",
       "      <td>Marilyn Monroe</td>\n",
       "      <td>/author/Marilyn-Monroe</td>\n",
       "      <td>be-yourself, inspirational</td>\n",
       "    </tr>\n",
       "    <tr>\n",
       "      <th>...</th>\n",
       "      <td>...</td>\n",
       "      <td>...</td>\n",
       "      <td>...</td>\n",
       "      <td>...</td>\n",
       "    </tr>\n",
       "    <tr>\n",
       "      <th>95</th>\n",
       "      <td>“You never really understand a person until yo...</td>\n",
       "      <td>Harper Lee</td>\n",
       "      <td>/author/Harper-Lee</td>\n",
       "      <td>better-life-empathy</td>\n",
       "    </tr>\n",
       "    <tr>\n",
       "      <th>96</th>\n",
       "      <td>“You have to write the book that wants to be w...</td>\n",
       "      <td>Madeleine L'Engle</td>\n",
       "      <td>/author/Madeleine-LEngle</td>\n",
       "      <td>books, children, difficult, grown-ups, write, ...</td>\n",
       "    </tr>\n",
       "    <tr>\n",
       "      <th>97</th>\n",
       "      <td>“Never tell the truth to people who are not wo...</td>\n",
       "      <td>Mark Twain</td>\n",
       "      <td>/author/Mark-Twain</td>\n",
       "      <td>truth</td>\n",
       "    </tr>\n",
       "    <tr>\n",
       "      <th>98</th>\n",
       "      <td>“A person's a person, no matter how small.”</td>\n",
       "      <td>Dr. Seuss</td>\n",
       "      <td>/author/Dr-Seuss</td>\n",
       "      <td>inspirational</td>\n",
       "    </tr>\n",
       "    <tr>\n",
       "      <th>99</th>\n",
       "      <td>“... a mind needs books as a sword needs a whe...</td>\n",
       "      <td>George R.R. Martin</td>\n",
       "      <td>/author/George-R-R-Martin</td>\n",
       "      <td>books, mind</td>\n",
       "    </tr>\n",
       "  </tbody>\n",
       "</table>\n",
       "<p>100 rows × 4 columns</p>\n",
       "</div>"
      ],
      "text/plain": [
       "                                                 text              author   \n",
       "0   “The world as we have created it is a process ...     Albert Einstein  \\\n",
       "1   “It is our choices, Harry, that show what we t...        J.K. Rowling   \n",
       "2   “There are only two ways to live your life. On...     Albert Einstein   \n",
       "3   “The person, be it gentleman or lady, who has ...         Jane Austen   \n",
       "4   “Imperfection is beauty, madness is genius and...      Marilyn Monroe   \n",
       "..                                                ...                 ...   \n",
       "95  “You never really understand a person until yo...          Harper Lee   \n",
       "96  “You have to write the book that wants to be w...   Madeleine L'Engle   \n",
       "97  “Never tell the truth to people who are not wo...          Mark Twain   \n",
       "98        “A person's a person, no matter how small.”           Dr. Seuss   \n",
       "99  “... a mind needs books as a sword needs a whe...  George R.R. Martin   \n",
       "\n",
       "                   author_url   \n",
       "0     /author/Albert-Einstein  \\\n",
       "1         /author/J-K-Rowling   \n",
       "2     /author/Albert-Einstein   \n",
       "3         /author/Jane-Austen   \n",
       "4      /author/Marilyn-Monroe   \n",
       "..                        ...   \n",
       "95         /author/Harper-Lee   \n",
       "96   /author/Madeleine-LEngle   \n",
       "97         /author/Mark-Twain   \n",
       "98           /author/Dr-Seuss   \n",
       "99  /author/George-R-R-Martin   \n",
       "\n",
       "                                                 tags  \n",
       "0              change, deep-thoughts, thinking, world  \n",
       "1                                  abilities, choices  \n",
       "2        inspirational, life, live, miracle, miracles  \n",
       "3                    aliteracy, books, classic, humor  \n",
       "4                          be-yourself, inspirational  \n",
       "..                                                ...  \n",
       "95                                better-life-empathy  \n",
       "96  books, children, difficult, grown-ups, write, ...  \n",
       "97                                              truth  \n",
       "98                                      inspirational  \n",
       "99                                        books, mind  \n",
       "\n",
       "[100 rows x 4 columns]"
      ]
     },
     "execution_count": 66,
     "metadata": {},
     "output_type": "execute_result"
    }
   ],
   "source": [
    "df"
   ]
  },
  {
   "cell_type": "code",
   "execution_count": null,
   "id": "2e256246-a9d6-48ed-9bc4-53364c6df621",
   "metadata": {},
   "outputs": [],
   "source": []
  }
 ],
 "metadata": {
  "kernelspec": {
   "display_name": "Python 3.8.9 64-bit",
   "language": "python",
   "name": "python3"
  },
  "language_info": {
   "codemirror_mode": {
    "name": "ipython",
    "version": 3
   },
   "file_extension": ".py",
   "mimetype": "text/x-python",
   "name": "python",
   "nbconvert_exporter": "python",
   "pygments_lexer": "ipython3",
   "version": "3.8.9"
  },
  "vscode": {
   "interpreter": {
    "hash": "0bb6518776f282d6c815a2db9d69e968a0c1ac0532245e89f01e39f2feb0c770"
   }
  }
 },
 "nbformat": 4,
 "nbformat_minor": 5
}
